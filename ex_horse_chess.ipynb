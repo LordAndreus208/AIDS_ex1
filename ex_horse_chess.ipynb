{
 "cells": [
  {
   "cell_type": "code",
   "execution_count": 88,
   "metadata": {},
   "outputs": [],
   "source": [
    "# Rappresentiamo la Scacchiera come un array bidimensionale 8x8 chimato `board`:\n",
    "# Importiamo le librerie standard di python che ci serviranno in questo progetto:\n",
    "import random\n",
    "import collections\n",
    "\n",
    "# Le librerie dei framework specifici:\n",
    "import matplotlib.pyplot as plt # Motore grafico di python per realizzare diagrammi e fuznoni\n",
    "import numpy as np # Libreria che gestisce ad altissima efficienza gli array\n",
    "import seaborn as sns # Libreria che usa il motore grafico di MatplotLib con funzionalita' grafiche avanzate"
   ]
  },
  {
   "cell_type": "markdown",
   "metadata": {},
   "source": [
    "Rappresentiamo la scacchiera con un array bidimensionale 8x8 riempito di Zeri. Il cavallo si muove nella scacchiera partendo da una casella che verra' marcata col numero 1. Teniamo traccia degli spostamenti del cavallo incrementando di 1 ogni passaggio, ottenendo dunque un array di questo tipo: \n",
    "''' array([[ 0., 0., 0., 0., 0., 0., 0., 0.], [ 0., 0., 0., 0., 0., 0., 0., 0.], [ 0., 0., 3., 0., 0., 0., 0., 0.], [ 4., 0., 8., 0., 2., 17., 0., 0.], [ 7., 0., 5., 0., 0., 0., 13., 0.], [ 0., 9., 0., 1., 18., 11., 16., 0.], [ 0., 6., 0., 10., 0., 14., 0., 12.], [ 0., 0., 0., 0., 0., 19., 0., 15.]]) '''\n",
    "Da questo array si possono vedere tutti i salti che ha fatto il cavallo ha fatto 19 salti (sui 64 possibili) prima di non riuscire piu' a muoversi su caselle mai toccate."
   ]
  },
  {
   "cell_type": "code",
   "execution_count": 89,
   "metadata": {},
   "outputs": [],
   "source": [
    "# Scriviamo una funzione che inizializzi il gioco, creando una \"board\" e posizionando il cavallo nella sua posizione iniziale.\n",
    "# Consideriamo la possibilita' di far partire il cavallo da una delle sue posizioni \"standard\"\n",
    "# o da una posizione casuale nella scacchiera:\n",
    "\n",
    "def initialize_game(horse_default_position=True):\n",
    "\n",
    "    board = np.zeros((8,8))\n",
    "    positions = [(0,1), (0,6), (7,1), (7,6)]\n",
    "    start_position = random.choice(positions)\n",
    "\n",
    "    board[start_position] = 1\n",
    "\n",
    "    # print(board)\n",
    "    return board"
   ]
  },
  {
   "cell_type": "code",
   "execution_count": 90,
   "metadata": {},
   "outputs": [
    {
     "data": {
      "text/plain": [
       "array([[0., 0., 0., 0., 0., 0., 1., 0.],\n",
       "       [0., 0., 0., 0., 0., 0., 0., 0.],\n",
       "       [0., 0., 0., 0., 0., 0., 0., 0.],\n",
       "       [0., 0., 0., 0., 0., 0., 0., 0.],\n",
       "       [0., 0., 0., 0., 0., 0., 0., 0.],\n",
       "       [0., 0., 0., 0., 0., 0., 0., 0.],\n",
       "       [0., 0., 0., 0., 0., 0., 0., 0.],\n",
       "       [0., 0., 0., 0., 0., 0., 0., 0.]])"
      ]
     },
     "execution_count": 90,
     "metadata": {},
     "output_type": "execute_result"
    }
   ],
   "source": [
    "my_board = initialize_game()\n",
    "my_board"
   ]
  },
  {
   "cell_type": "code",
   "execution_count": 91,
   "metadata": {},
   "outputs": [],
   "source": [
    "# Scrviamo una funzione che legge una board e restituisce:\n",
    "# - il numero di mosse raggunto dal cavallo\n",
    "# - una tupla con la posizione attuale, orizzontale e verticale\n",
    "def get_horse_current_position(board):\n",
    "\n",
    "    current_move_number = board.max()\n",
    "    current_h, current_v = np.unravel_index(my_board.argmax(),(8,8))\n",
    "\n",
    "\n",
    "    # return current_move_number, (current_h, current_v)\n",
    "    return current_move_number, (current_h, current_v)"
   ]
  },
  {
   "cell_type": "code",
   "execution_count": 92,
   "metadata": {},
   "outputs": [
    {
     "data": {
      "text/plain": [
       "(1.0, (0, 6))"
      ]
     },
     "execution_count": 92,
     "metadata": {},
     "output_type": "execute_result"
    }
   ],
   "source": [
    "get_horse_current_position(my_board)"
   ]
  },
  {
   "cell_type": "code",
   "execution_count": 93,
   "metadata": {},
   "outputs": [],
   "source": [
    "# Scriviamo una funzione che legge una board e restituisce una lista delle possibili mosse disponibili\n",
    "def get_available_moves(board):\n",
    "\n",
    "    possible_moves = [(2,1),\n",
    "                      (2,-1),\n",
    "                      (-2,1),\n",
    "                      (-2,-1),\n",
    "                      (1,2),\n",
    "                      (1,-2),\n",
    "                      (-1,2),\n",
    "                      (-1,-2)]\n",
    "    \n",
    "    _, current_horse_position = get_horse_current_position(board)\n",
    "    h_pos, v_pos = current_horse_position\n",
    "\n",
    "    available_moves = []\n",
    "\n",
    "    for move in possible_moves:\n",
    "        h_move, v_move = move\n",
    "        new_h_pos = h_pos + h_move\n",
    "        new_v_pos = v_pos + v_move\n",
    "        if 0<=new_h_pos<=7:\n",
    "            if 0<=new_v_pos<=7:\n",
    "                if board[(new_h_pos, new_v_pos)] == 0:\n",
    "                    available_moves.append((new_h_pos, new_v_pos))\n",
    "\n",
    "    \n",
    "    # return available_moves\n",
    "    return available_moves\n"
   ]
  },
  {
   "cell_type": "code",
   "execution_count": 94,
   "metadata": {},
   "outputs": [
    {
     "data": {
      "text/plain": [
       "[(2, 7), (2, 5), (1, 4)]"
      ]
     },
     "execution_count": 94,
     "metadata": {},
     "output_type": "execute_result"
    }
   ],
   "source": [
    "get_available_moves(my_board)"
   ]
  },
  {
   "cell_type": "code",
   "execution_count": 95,
   "metadata": {},
   "outputs": [],
   "source": [
    "# Scriviamo una funzione che date le mosse a disposizione, ne sceglie casualmente una e la restituisce\n",
    "def random_move(available_moves):\n",
    "\n",
    "    return random.choice(available_moves)\n",
    "    # return a_random_move"
   ]
  },
  {
   "cell_type": "code",
   "execution_count": 96,
   "metadata": {},
   "outputs": [],
   "source": [
    "\n",
    "# Scriviamo una funzione che legge una board e fa fare al cavallo una mossa scegliendo tra le disponibili casualmente\n",
    "\n",
    "def move_horse(board):\n",
    "\n",
    "    current_move, _ = get_horse_current_position(board)\n",
    "    next_move_count = current_move + 1\n",
    "\n",
    "    available_moves = get_available_moves(board)\n",
    "    if len(available_moves) == 0:\n",
    "        return(\"Game over\")\n",
    "    next_move = random_move(available_moves)\n",
    "    board[next_move] = next_move_count\n",
    "\n",
    "    # return board\n",
    "    return board"
   ]
  },
  {
   "cell_type": "code",
   "execution_count": 97,
   "metadata": {},
   "outputs": [
    {
     "name": "stdout",
     "output_type": "stream",
     "text": [
      "[[0. 0. 0. 0. 0. 0. 1. 0.]\n",
      " [0. 0. 0. 0. 2. 0. 0. 0.]\n",
      " [0. 0. 0. 0. 0. 0. 0. 0.]\n",
      " [0. 0. 0. 0. 0. 0. 0. 0.]\n",
      " [0. 0. 0. 0. 0. 0. 0. 0.]\n",
      " [0. 0. 0. 0. 0. 0. 0. 0.]\n",
      " [0. 0. 0. 0. 0. 0. 0. 0.]\n",
      " [0. 0. 0. 0. 0. 0. 0. 0.]]\n"
     ]
    },
    {
     "data": {
      "text/plain": [
       "array([[0., 0., 0., 0., 0., 0., 1., 0.],\n",
       "       [0., 0., 0., 0., 2., 0., 0., 0.],\n",
       "       [0., 0., 0., 0., 0., 0., 0., 0.],\n",
       "       [0., 0., 0., 0., 0., 0., 0., 0.],\n",
       "       [0., 0., 0., 0., 0., 0., 0., 0.],\n",
       "       [0., 0., 0., 0., 0., 0., 0., 0.],\n",
       "       [0., 0., 0., 0., 0., 0., 0., 0.],\n",
       "       [0., 0., 0., 0., 0., 0., 0., 0.]])"
      ]
     },
     "execution_count": 97,
     "metadata": {},
     "output_type": "execute_result"
    }
   ],
   "source": [
    "move_horse(my_board)"
   ]
  },
  {
   "cell_type": "code",
   "execution_count": 98,
   "metadata": {},
   "outputs": [],
   "source": [
    "\n",
    "# Scriviamo una funzione che gioca una partita completa sino a che il cavallo non puo' piu' muoversi\n",
    "# A fine partita, se il parametro \"verbose\" e' impostato su true, stampa a video la board.\n",
    "# Restituisce la board\n",
    "def play_one_game(verbose = False, horse_default_start_position = True):\n",
    "\n",
    "    board = initialize_game()\n",
    "    # return board\n",
    "    pass\n",
    "\n",
    "# Scriviamo una funzione che gioca n partite e restituisce un po' di statistiche:\n",
    "# - Numero partite vinte o miglior partita,\n",
    "# - Board completate o miglior Board\n",
    "# - Punteggio raggiunto in media e mediana,\n",
    "# - Frequenza di occupazione di alcune caselle nella board\n",
    "# - vvee\n",
    "def play_multiple_games(n= 10, verbose = False, horse_default_start_position = True):\n",
    "\n",
    "    # return statistics\n",
    "    pass"
   ]
  }
 ],
 "metadata": {
  "kernelspec": {
   "display_name": "base",
   "language": "python",
   "name": "python3"
  },
  "language_info": {
   "codemirror_mode": {
    "name": "ipython",
    "version": 3
   },
   "file_extension": ".py",
   "mimetype": "text/x-python",
   "name": "python",
   "nbconvert_exporter": "python",
   "pygments_lexer": "ipython3",
   "version": "3.11.5"
  }
 },
 "nbformat": 4,
 "nbformat_minor": 2
}
